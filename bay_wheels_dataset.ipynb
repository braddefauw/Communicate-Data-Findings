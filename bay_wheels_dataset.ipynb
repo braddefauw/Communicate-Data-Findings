{
 "cells": [
  {
   "cell_type": "markdown",
   "metadata": {},
   "source": [
    "# Bay Wheels Dataset Exploration\n",
    "## by Brad DeFauw\n",
    "\n",
    "## Preliminary Wrangling\n",
    "\n",
    "> This dataset captures trip data for the company Bay Wheels, formerly known as Ford GoBike, a regional public bicycle sharing system in the San Francisco Bay Area, California operated by Motivate, in a partnership with the Metropolitan Transportation Commission and the Bay Area Air Quality Management District. This dataset does an excellent job shedding light on a variety of data, including: \n",
    "- Trip Duration (seconds)\n",
    "- Start Time and Date\n",
    "- End Time and Date\n",
    "- Start Station ID\n",
    "- Start Station Name\n",
    "- Start Station Latitude\n",
    "- Start Station Longitude\n",
    "- End Station ID\n",
    "- End Station Name\n",
    "- End Station Latitude\n",
    "- End Station Longitude\n",
    "- Bike ID\n",
    "- User Type (Subscriber or Customer – “Subscriber” = Member or “Customer” = Casual)\n",
    "- Member Year of Birth\n",
    "- Member Gender"
   ]
  },
  {
   "cell_type": "code",
   "execution_count": 139,
   "metadata": {},
   "outputs": [],
   "source": [
    "# import all packages and set plots to be embedded inline\n",
    "import numpy as np\n",
    "import pandas as pd\n",
    "import matplotlib.pyplot as plt\n",
    "import seaborn as sb\n",
    "\n",
    "%matplotlib inline"
   ]
  },
  {
   "cell_type": "code",
   "execution_count": 140,
   "metadata": {},
   "outputs": [
    {
     "name": "stdout",
     "output_type": "stream",
     "text": [
      "(519700, 15)\n",
      "duration_sec                 int64\n",
      "start_time                  object\n",
      "end_time                    object\n",
      "start_station_id             int64\n",
      "start_station_name          object\n",
      "start_station_latitude     float64\n",
      "start_station_longitude    float64\n",
      "end_station_id               int64\n",
      "end_station_name            object\n",
      "end_station_latitude       float64\n",
      "end_station_longitude      float64\n",
      "bike_id                      int64\n",
      "user_type                   object\n",
      "member_birth_year          float64\n",
      "member_gender               object\n",
      "dtype: object\n"
     ]
    },
    {
     "data": {
      "text/html": [
       "<div>\n",
       "<style scoped>\n",
       "    .dataframe tbody tr th:only-of-type {\n",
       "        vertical-align: middle;\n",
       "    }\n",
       "\n",
       "    .dataframe tbody tr th {\n",
       "        vertical-align: top;\n",
       "    }\n",
       "\n",
       "    .dataframe thead th {\n",
       "        text-align: right;\n",
       "    }\n",
       "</style>\n",
       "<table border=\"1\" class=\"dataframe\">\n",
       "  <thead>\n",
       "    <tr style=\"text-align: right;\">\n",
       "      <th></th>\n",
       "      <th>duration_sec</th>\n",
       "      <th>start_time</th>\n",
       "      <th>end_time</th>\n",
       "      <th>start_station_id</th>\n",
       "      <th>start_station_name</th>\n",
       "      <th>start_station_latitude</th>\n",
       "      <th>start_station_longitude</th>\n",
       "      <th>end_station_id</th>\n",
       "      <th>end_station_name</th>\n",
       "      <th>end_station_latitude</th>\n",
       "      <th>end_station_longitude</th>\n",
       "      <th>bike_id</th>\n",
       "      <th>user_type</th>\n",
       "      <th>member_birth_year</th>\n",
       "      <th>member_gender</th>\n",
       "      <th>duration_min</th>\n",
       "      <th>duration_hr</th>\n",
       "      <th>age</th>\n",
       "    </tr>\n",
       "  </thead>\n",
       "  <tbody>\n",
       "    <tr>\n",
       "      <th>0</th>\n",
       "      <td>80110</td>\n",
       "      <td>2017-12-31 16:57:39.6540</td>\n",
       "      <td>2018-01-01 15:12:50.2450</td>\n",
       "      <td>74</td>\n",
       "      <td>Laguna St at Hayes St</td>\n",
       "      <td>37.776435</td>\n",
       "      <td>-122.426244</td>\n",
       "      <td>43</td>\n",
       "      <td>San Francisco Public Library (Grove St at Hyde...</td>\n",
       "      <td>37.778768</td>\n",
       "      <td>-122.415929</td>\n",
       "      <td>96</td>\n",
       "      <td>Customer</td>\n",
       "      <td>1987.0</td>\n",
       "      <td>Male</td>\n",
       "      <td>1335.166667</td>\n",
       "      <td>22.252778</td>\n",
       "      <td>30.0</td>\n",
       "    </tr>\n",
       "    <tr>\n",
       "      <th>1</th>\n",
       "      <td>78800</td>\n",
       "      <td>2017-12-31 15:56:34.8420</td>\n",
       "      <td>2018-01-01 13:49:55.6170</td>\n",
       "      <td>284</td>\n",
       "      <td>Yerba Buena Center for the Arts (Howard St at ...</td>\n",
       "      <td>37.784872</td>\n",
       "      <td>-122.400876</td>\n",
       "      <td>96</td>\n",
       "      <td>Dolores St at 15th St</td>\n",
       "      <td>37.766210</td>\n",
       "      <td>-122.426614</td>\n",
       "      <td>88</td>\n",
       "      <td>Customer</td>\n",
       "      <td>1965.0</td>\n",
       "      <td>Female</td>\n",
       "      <td>1313.333333</td>\n",
       "      <td>21.888889</td>\n",
       "      <td>52.0</td>\n",
       "    </tr>\n",
       "    <tr>\n",
       "      <th>2</th>\n",
       "      <td>45768</td>\n",
       "      <td>2017-12-31 22:45:48.4110</td>\n",
       "      <td>2018-01-01 11:28:36.8830</td>\n",
       "      <td>245</td>\n",
       "      <td>Downtown Berkeley BART</td>\n",
       "      <td>37.870348</td>\n",
       "      <td>-122.267764</td>\n",
       "      <td>245</td>\n",
       "      <td>Downtown Berkeley BART</td>\n",
       "      <td>37.870348</td>\n",
       "      <td>-122.267764</td>\n",
       "      <td>1094</td>\n",
       "      <td>Customer</td>\n",
       "      <td>NaN</td>\n",
       "      <td>NaN</td>\n",
       "      <td>762.800000</td>\n",
       "      <td>12.713333</td>\n",
       "      <td>NaN</td>\n",
       "    </tr>\n",
       "    <tr>\n",
       "      <th>3</th>\n",
       "      <td>62172</td>\n",
       "      <td>2017-12-31 17:31:10.6360</td>\n",
       "      <td>2018-01-01 10:47:23.5310</td>\n",
       "      <td>60</td>\n",
       "      <td>8th St at Ringold St</td>\n",
       "      <td>37.774520</td>\n",
       "      <td>-122.409449</td>\n",
       "      <td>5</td>\n",
       "      <td>Powell St BART Station (Market St at 5th St)</td>\n",
       "      <td>37.783899</td>\n",
       "      <td>-122.408445</td>\n",
       "      <td>2831</td>\n",
       "      <td>Customer</td>\n",
       "      <td>NaN</td>\n",
       "      <td>NaN</td>\n",
       "      <td>1036.200000</td>\n",
       "      <td>17.270000</td>\n",
       "      <td>NaN</td>\n",
       "    </tr>\n",
       "    <tr>\n",
       "      <th>4</th>\n",
       "      <td>43603</td>\n",
       "      <td>2017-12-31 14:23:14.0010</td>\n",
       "      <td>2018-01-01 02:29:57.5710</td>\n",
       "      <td>239</td>\n",
       "      <td>Bancroft Way at Telegraph Ave</td>\n",
       "      <td>37.868813</td>\n",
       "      <td>-122.258764</td>\n",
       "      <td>247</td>\n",
       "      <td>Fulton St at Bancroft Way</td>\n",
       "      <td>37.867789</td>\n",
       "      <td>-122.265896</td>\n",
       "      <td>3167</td>\n",
       "      <td>Subscriber</td>\n",
       "      <td>1997.0</td>\n",
       "      <td>Female</td>\n",
       "      <td>726.716667</td>\n",
       "      <td>12.111944</td>\n",
       "      <td>20.0</td>\n",
       "    </tr>\n",
       "  </tbody>\n",
       "</table>\n",
       "</div>"
      ],
      "text/plain": [
       "   duration_sec                start_time                  end_time  \\\n",
       "0         80110  2017-12-31 16:57:39.6540  2018-01-01 15:12:50.2450   \n",
       "1         78800  2017-12-31 15:56:34.8420  2018-01-01 13:49:55.6170   \n",
       "2         45768  2017-12-31 22:45:48.4110  2018-01-01 11:28:36.8830   \n",
       "3         62172  2017-12-31 17:31:10.6360  2018-01-01 10:47:23.5310   \n",
       "4         43603  2017-12-31 14:23:14.0010  2018-01-01 02:29:57.5710   \n",
       "\n",
       "   start_station_id                                 start_station_name  \\\n",
       "0                74                              Laguna St at Hayes St   \n",
       "1               284  Yerba Buena Center for the Arts (Howard St at ...   \n",
       "2               245                             Downtown Berkeley BART   \n",
       "3                60                               8th St at Ringold St   \n",
       "4               239                      Bancroft Way at Telegraph Ave   \n",
       "\n",
       "   start_station_latitude  start_station_longitude  end_station_id  \\\n",
       "0               37.776435              -122.426244              43   \n",
       "1               37.784872              -122.400876              96   \n",
       "2               37.870348              -122.267764             245   \n",
       "3               37.774520              -122.409449               5   \n",
       "4               37.868813              -122.258764             247   \n",
       "\n",
       "                                    end_station_name  end_station_latitude  \\\n",
       "0  San Francisco Public Library (Grove St at Hyde...             37.778768   \n",
       "1                              Dolores St at 15th St             37.766210   \n",
       "2                             Downtown Berkeley BART             37.870348   \n",
       "3       Powell St BART Station (Market St at 5th St)             37.783899   \n",
       "4                          Fulton St at Bancroft Way             37.867789   \n",
       "\n",
       "   end_station_longitude  bike_id   user_type  member_birth_year  \\\n",
       "0            -122.415929       96    Customer             1987.0   \n",
       "1            -122.426614       88    Customer             1965.0   \n",
       "2            -122.267764     1094    Customer                NaN   \n",
       "3            -122.408445     2831    Customer                NaN   \n",
       "4            -122.265896     3167  Subscriber             1997.0   \n",
       "\n",
       "  member_gender  duration_min  duration_hr   age  \n",
       "0          Male   1335.166667    22.252778  30.0  \n",
       "1        Female   1313.333333    21.888889  52.0  \n",
       "2           NaN    762.800000    12.713333   NaN  \n",
       "3           NaN   1036.200000    17.270000   NaN  \n",
       "4        Female    726.716667    12.111944  20.0  "
      ]
     },
     "execution_count": 140,
     "metadata": {},
     "output_type": "execute_result"
    }
   ],
   "source": [
    "bikes = pd.read_csv('2017-fordgobike-tripdata.csv')\n",
    "print(bikes.shape)\n",
    "print(bikes.dtypes)\n",
    "bikes['duration_min'] = bikes['duration_sec'] / 60\n",
    "bikes['duration_hr'] = bikes['duration_min'] / 60\n",
    "bikes['age'] = 2017 - bikes['member_birth_year']\n",
    "bikes.head()"
   ]
  },
  {
   "cell_type": "code",
   "execution_count": 141,
   "metadata": {},
   "outputs": [
    {
     "name": "stdout",
     "output_type": "stream",
     "text": [
      "        duration_sec  start_station_id  start_station_latitude  \\\n",
      "count  503704.000000     503704.000000           503704.000000   \n",
      "mean      712.752795         95.005743               37.771706   \n",
      "std       501.635151         85.681287                0.085832   \n",
      "min        61.000000          3.000000               37.317298   \n",
      "25%       376.000000         24.000000               37.773492   \n",
      "50%       581.000000         67.000000               37.782411   \n",
      "75%       892.000000        138.000000               37.795392   \n",
      "max      3659.000000        340.000000               37.880222   \n",
      "\n",
      "       start_station_longitude  end_station_id  end_station_latitude  \\\n",
      "count            503704.000000   503704.000000         503704.000000   \n",
      "mean               -122.364159       92.057081             37.771869   \n",
      "std                   0.105100       84.445283              0.085741   \n",
      "min                -122.444293        3.000000             37.317298   \n",
      "25%                -122.411726       23.000000             37.774520   \n",
      "50%                -122.398870       66.000000             37.783813   \n",
      "75%                -122.391034      134.000000             37.795392   \n",
      "max                -121.874119      340.000000             37.880222   \n",
      "\n",
      "       end_station_longitude        bike_id  member_birth_year   duration_min  \\\n",
      "count          503704.000000  503704.000000      447716.000000  503704.000000   \n",
      "mean             -122.363420    1675.683503        1980.394400      11.879213   \n",
      "std                 0.104629     971.724434          10.506917       8.360586   \n",
      "min              -122.444293      10.000000        1886.000000       1.016667   \n",
      "25%              -122.410345     790.000000        1974.000000       6.266667   \n",
      "50%              -122.398525    1733.000000        1983.000000       9.683333   \n",
      "75%              -122.391034    2524.000000        1988.000000      14.866667   \n",
      "max              -121.874119    3733.000000        1999.000000      60.983333   \n",
      "\n",
      "         duration_hr            age  \n",
      "count  503704.000000  447716.000000  \n",
      "mean        0.197987      36.605600  \n",
      "std         0.139343      10.506917  \n",
      "min         0.016944      18.000000  \n",
      "25%         0.104444      29.000000  \n",
      "50%         0.161389      34.000000  \n",
      "75%         0.247778      43.000000  \n",
      "max         1.016389     131.000000  \n",
      "(503704, 18)\n"
     ]
    }
   ],
   "source": [
    "short_ride = bikes[bikes['duration_min'] < 61]\n",
    "short_ride.head()\n",
    "print(short_ride.describe())\n",
    "print(short_ride.shape)"
   ]
  },
  {
   "cell_type": "code",
   "execution_count": 146,
   "metadata": {},
   "outputs": [
    {
     "data": {
      "text/html": [
       "<div>\n",
       "<style scoped>\n",
       "    .dataframe tbody tr th:only-of-type {\n",
       "        vertical-align: middle;\n",
       "    }\n",
       "\n",
       "    .dataframe tbody tr th {\n",
       "        vertical-align: top;\n",
       "    }\n",
       "\n",
       "    .dataframe thead th {\n",
       "        text-align: right;\n",
       "    }\n",
       "</style>\n",
       "<table border=\"1\" class=\"dataframe\">\n",
       "  <thead>\n",
       "    <tr style=\"text-align: right;\">\n",
       "      <th></th>\n",
       "      <th>duration_sec</th>\n",
       "      <th>start_time</th>\n",
       "      <th>end_time</th>\n",
       "      <th>start_station_id</th>\n",
       "      <th>start_station_name</th>\n",
       "      <th>start_station_latitude</th>\n",
       "      <th>start_station_longitude</th>\n",
       "      <th>end_station_id</th>\n",
       "      <th>end_station_name</th>\n",
       "      <th>end_station_latitude</th>\n",
       "      <th>end_station_longitude</th>\n",
       "      <th>bike_id</th>\n",
       "      <th>user_type</th>\n",
       "      <th>member_birth_year</th>\n",
       "      <th>member_gender</th>\n",
       "      <th>duration_min</th>\n",
       "      <th>duration_hr</th>\n",
       "      <th>age</th>\n",
       "    </tr>\n",
       "  </thead>\n",
       "  <tbody>\n",
       "    <tr>\n",
       "      <th>285378</th>\n",
       "      <td>1144</td>\n",
       "      <td>2017-10-02 18:32:25.8000</td>\n",
       "      <td>2017-10-02 18:51:30.6700</td>\n",
       "      <td>90</td>\n",
       "      <td>Townsend St at 7th St</td>\n",
       "      <td>37.771058</td>\n",
       "      <td>-122.402717</td>\n",
       "      <td>17</td>\n",
       "      <td>Embarcadero BART Station (Beale St at Market St)</td>\n",
       "      <td>37.792251</td>\n",
       "      <td>-122.397086</td>\n",
       "      <td>2794</td>\n",
       "      <td>Subscriber</td>\n",
       "      <td>1992.0</td>\n",
       "      <td>Male</td>\n",
       "      <td>19.066667</td>\n",
       "      <td>0.317778</td>\n",
       "      <td>25.0</td>\n",
       "    </tr>\n",
       "    <tr>\n",
       "      <th>71694</th>\n",
       "      <td>404</td>\n",
       "      <td>2017-12-05 16:43:30.9260</td>\n",
       "      <td>2017-12-05 16:50:15.7330</td>\n",
       "      <td>129</td>\n",
       "      <td>Harrison St at 20th St</td>\n",
       "      <td>37.758862</td>\n",
       "      <td>-122.412544</td>\n",
       "      <td>223</td>\n",
       "      <td>16th St Mission BART Station 2</td>\n",
       "      <td>37.764765</td>\n",
       "      <td>-122.420091</td>\n",
       "      <td>2078</td>\n",
       "      <td>Subscriber</td>\n",
       "      <td>1978.0</td>\n",
       "      <td>Male</td>\n",
       "      <td>6.733333</td>\n",
       "      <td>0.112222</td>\n",
       "      <td>39.0</td>\n",
       "    </tr>\n",
       "    <tr>\n",
       "      <th>420766</th>\n",
       "      <td>655</td>\n",
       "      <td>2017-08-21 19:37:15.5440</td>\n",
       "      <td>2017-08-21 19:48:10.7760</td>\n",
       "      <td>21</td>\n",
       "      <td>Montgomery St BART Station (Market St at 2nd St)</td>\n",
       "      <td>37.789625</td>\n",
       "      <td>-122.400811</td>\n",
       "      <td>58</td>\n",
       "      <td>Market St at 10th St</td>\n",
       "      <td>37.776619</td>\n",
       "      <td>-122.417385</td>\n",
       "      <td>1991</td>\n",
       "      <td>Subscriber</td>\n",
       "      <td>1994.0</td>\n",
       "      <td>Male</td>\n",
       "      <td>10.916667</td>\n",
       "      <td>0.181944</td>\n",
       "      <td>23.0</td>\n",
       "    </tr>\n",
       "    <tr>\n",
       "      <th>363654</th>\n",
       "      <td>1555</td>\n",
       "      <td>2017-09-09 16:16:45.4080</td>\n",
       "      <td>2017-09-09 16:42:40.7600</td>\n",
       "      <td>70</td>\n",
       "      <td>Central Ave at Fell St</td>\n",
       "      <td>37.773311</td>\n",
       "      <td>-122.444293</td>\n",
       "      <td>120</td>\n",
       "      <td>Mission Dolores Park</td>\n",
       "      <td>37.761420</td>\n",
       "      <td>-122.426435</td>\n",
       "      <td>1775</td>\n",
       "      <td>Customer</td>\n",
       "      <td>1996.0</td>\n",
       "      <td>Male</td>\n",
       "      <td>25.916667</td>\n",
       "      <td>0.431944</td>\n",
       "      <td>21.0</td>\n",
       "    </tr>\n",
       "    <tr>\n",
       "      <th>348574</th>\n",
       "      <td>717</td>\n",
       "      <td>2017-09-14 09:32:16.6900</td>\n",
       "      <td>2017-09-14 09:44:13.9890</td>\n",
       "      <td>66</td>\n",
       "      <td>3rd St at Townsend St</td>\n",
       "      <td>37.778742</td>\n",
       "      <td>-122.392741</td>\n",
       "      <td>9</td>\n",
       "      <td>Broadway at Battery St</td>\n",
       "      <td>37.798572</td>\n",
       "      <td>-122.400869</td>\n",
       "      <td>122</td>\n",
       "      <td>Subscriber</td>\n",
       "      <td>1986.0</td>\n",
       "      <td>Male</td>\n",
       "      <td>11.950000</td>\n",
       "      <td>0.199167</td>\n",
       "      <td>31.0</td>\n",
       "    </tr>\n",
       "  </tbody>\n",
       "</table>\n",
       "</div>"
      ],
      "text/plain": [
       "        duration_sec                start_time                  end_time  \\\n",
       "285378          1144  2017-10-02 18:32:25.8000  2017-10-02 18:51:30.6700   \n",
       "71694            404  2017-12-05 16:43:30.9260  2017-12-05 16:50:15.7330   \n",
       "420766           655  2017-08-21 19:37:15.5440  2017-08-21 19:48:10.7760   \n",
       "363654          1555  2017-09-09 16:16:45.4080  2017-09-09 16:42:40.7600   \n",
       "348574           717  2017-09-14 09:32:16.6900  2017-09-14 09:44:13.9890   \n",
       "\n",
       "        start_station_id                                start_station_name  \\\n",
       "285378                90                             Townsend St at 7th St   \n",
       "71694                129                            Harrison St at 20th St   \n",
       "420766                21  Montgomery St BART Station (Market St at 2nd St)   \n",
       "363654                70                            Central Ave at Fell St   \n",
       "348574                66                             3rd St at Townsend St   \n",
       "\n",
       "        start_station_latitude  start_station_longitude  end_station_id  \\\n",
       "285378               37.771058              -122.402717              17   \n",
       "71694                37.758862              -122.412544             223   \n",
       "420766               37.789625              -122.400811              58   \n",
       "363654               37.773311              -122.444293             120   \n",
       "348574               37.778742              -122.392741               9   \n",
       "\n",
       "                                        end_station_name  \\\n",
       "285378  Embarcadero BART Station (Beale St at Market St)   \n",
       "71694                     16th St Mission BART Station 2   \n",
       "420766                              Market St at 10th St   \n",
       "363654                              Mission Dolores Park   \n",
       "348574                            Broadway at Battery St   \n",
       "\n",
       "        end_station_latitude  end_station_longitude  bike_id   user_type  \\\n",
       "285378             37.792251            -122.397086     2794  Subscriber   \n",
       "71694              37.764765            -122.420091     2078  Subscriber   \n",
       "420766             37.776619            -122.417385     1991  Subscriber   \n",
       "363654             37.761420            -122.426435     1775    Customer   \n",
       "348574             37.798572            -122.400869      122  Subscriber   \n",
       "\n",
       "        member_birth_year member_gender  duration_min  duration_hr   age  \n",
       "285378             1992.0          Male     19.066667     0.317778  25.0  \n",
       "71694              1978.0          Male      6.733333     0.112222  39.0  \n",
       "420766             1994.0          Male     10.916667     0.181944  23.0  \n",
       "363654             1996.0          Male     25.916667     0.431944  21.0  \n",
       "348574             1986.0          Male     11.950000     0.199167  31.0  "
      ]
     },
     "execution_count": 146,
     "metadata": {},
     "output_type": "execute_result"
    }
   ],
   "source": [
    "short_ride_new = short_ride[short_ride.age < 68].copy()\n",
    "short_ride_new.sample(5)"
   ]
  },
  {
   "cell_type": "markdown",
   "metadata": {},
   "source": [
    "Because of outliers for age, I created another dataset that limits the age."
   ]
  },
  {
   "cell_type": "markdown",
   "metadata": {},
   "source": [
    "### What is the structure of your dataset?\n",
    "\n",
    "> This dataset had 15 columns and 519,700 rows, originally. However, upon inspection of the data I realized that I only wanted to do analysis of \"normal\" ride lengths, so I created a new dataset that only included rides of 60 minutes or shorter. I also added in columns for duration in minutes and hours, and age. The final dataset contains 18 columns and 503,704 rows.\n",
    "\n",
    "### What is/are the main feature(s) of interest in your dataset?\n",
    "\n",
    "> This dataset features information surrounding the duration of a ride, start and end stations of a ride, bike identification, as well as user data.\n",
    "\n",
    "### What features in the dataset do you think will help support your investigation into your feature(s) of interest?\n",
    "\n",
    "> I'm particularly interested in user features in this data. Are bikes used more by men or women? What age range? How do these features impact the length of a ride? I will be exploring these questions and more throughout my analysis."
   ]
  },
  {
   "cell_type": "markdown",
   "metadata": {},
   "source": [
    "## Univariate Exploration"
   ]
  },
  {
   "cell_type": "code",
   "execution_count": 147,
   "metadata": {},
   "outputs": [
    {
     "data": {
      "image/png": "[encoded data removed]",
      "text/plain": [
       "<Figure size 432x288 with 1 Axes>"
      ]
     },
     "metadata": {
      "needs_background": "light"
     },
     "output_type": "display_data"
    }
   ],
   "source": [
    "base_color = sb.color_palette()[0]\n",
    "sb.countplot(data = short_ride_new, x = 'member_gender', color = base_color);\n",
    "plt.xlabel('Gender')\n",
    "plt.ylabel('Count')\n",
    "plt.title('Gender Counts');"
   ]
  },
  {
   "cell_type": "markdown",
   "metadata": {},
   "source": [
    "Here, we can see that the overwhelming majority of users were male."
   ]
  },
  {
   "cell_type": "code",
   "execution_count": 148,
   "metadata": {},
   "outputs": [
    {
     "data": {
      "image/png": "[encoded data removed]",
      "text/plain": [
       "<Figure size 432x288 with 1 Axes>"
      ]
     },
     "metadata": {
      "needs_background": "light"
     },
     "output_type": "display_data"
    }
   ],
   "source": [
    "base_color = sb.color_palette()[0]\n",
    "sb.countplot(data = short_ride_new, x = 'user_type', color = base_color);\n",
    "plt.xlabel('User Type')\n",
    "plt.ylabel('Count')\n",
    "plt.title('User Type Counts');"
   ]
  },
  {
   "cell_type": "markdown",
   "metadata": {},
   "source": [
    "Here, we can see that the overwhelming majority of users are subscribers as opposed to one time customers."
   ]
  },
  {
   "cell_type": "code",
   "execution_count": 149,
   "metadata": {},
   "outputs": [
    {
     "data": {
      "image/png": "[encoded data removed]",
      "text/plain": [
       "<Figure size 432x288 with 1 Axes>"
      ]
     },
     "metadata": {
      "needs_background": "light"
     },
     "output_type": "display_data"
    }
   ],
   "source": [
    "bins = np.arange(0, short_ride_new['member_birth_year'].max()+5, 5)\n",
    "plt.hist(data = short_ride_new, x = 'member_birth_year', bins = bins);\n",
    "plt.xlim((1940,2000))\n",
    "plt.xlabel('Birth Year')\n",
    "plt.title('Birth Year Histogram');"
   ]
  },
  {
   "cell_type": "markdown",
   "metadata": {},
   "source": [
    "Here, we can see a unimodal histogram, with most users' birth years occuring between 1985 and 1990. This graph also shows significant left skew."
   ]
  },
  {
   "cell_type": "code",
   "execution_count": 150,
   "metadata": {},
   "outputs": [
    {
     "data": {
      "image/png": "[encoded data removed]",
      "text/plain": [
       "<Figure size 432x288 with 1 Axes>"
      ]
     },
     "metadata": {
      "needs_background": "light"
     },
     "output_type": "display_data"
    }
   ],
   "source": [
    "bins = np.arange(0, short_ride_new['duration_min'].max()+5, 5)\n",
    "plt.hist(data = short_ride_new, x = 'duration_min', bins = bins);\n",
    "plt.xlabel('Duration (minutes)')\n",
    "plt.title('Duration (minutes) Histogram')\n",
    "plt.xlim(0, 40);"
   ]
  },
  {
   "cell_type": "markdown",
   "metadata": {},
   "source": [
    "Here, we can see a unimodal histogram, with most users' ride duration occuring between 5 and 10 minutes. This graph also shows significant right skew."
   ]
  },
  {
   "cell_type": "markdown",
   "metadata": {},
   "source": [
    "### Discuss the distribution(s) of your variable(s) of interest. Were there any unusual points? Did you need to perform any transformations?\n",
    "\n",
    "> For birth year, there were a few unusual points - the minimum birth year occurred in 1886, which doesn't seem to make much scientific sense. Combining that with a few outliers, I only looked at a section of the data on the birth year histogram, starting with the year 1940 and ending with the year 2000.\n",
    "\n",
    "### Of the features you investigated, were there any unusual distributions? Did you perform any operations on the data to tidy, adjust, or change the form of the data? If so, why did you do this?\n",
    "\n",
    "> For these plots, I did not notice any unusual distributions outside of what I wrote about above. The only thing that comes to mind is the \"other\" category for member_gener, but I did not feel it was necessary to tidy, adjust or change the form of the data, due to the small number of users who identified as \"other\"."
   ]
  },
  {
   "cell_type": "markdown",
   "metadata": {},
   "source": [
    "## Bivariate Exploration\n",
    "\n",
    "> In this section, investigate relationships between pairs of variables in your\n",
    "data. Make sure the variables that you cover here have been introduced in some\n",
    "fashion in the previous section (univariate exploration)."
   ]
  },
  {
   "cell_type": "code",
   "execution_count": 153,
   "metadata": {},
   "outputs": [
    {
     "data": {
      "image/png": "[encoded data removed]",
      "text/plain": [
       "<Figure size 432x288 with 2 Axes>"
      ]
     },
     "metadata": {
      "needs_background": "light"
     },
     "output_type": "display_data"
    }
   ],
   "source": [
    "bins_x = np.arange(15, 131+5, 5)\n",
    "bins_y = np.arange(0, 60+2, 2)\n",
    "plt.hist2d(data = short_ride_new, x = 'age', y = 'duration_min', cmin = 0.5, cmap = 'viridis_r', bins = [bins_x, bins_y]);\n",
    "plt.colorbar()\n",
    "plt.xlabel('Age (years)')\n",
    "plt.ylabel('Duration (minutes)')\n",
    "plt.title('Age vs. Duration')\n",
    "plt.xlim(15,70);"
   ]
  },
  {
   "cell_type": "markdown",
   "metadata": {},
   "source": [
    "When conducting a bivariate exploration of the data, I initially thought to do a scatterplot of the data. However, due to overplotting it appears that a heat map would be more appropriate for this data. As evidenced, the largest number of rides are happening for users between 25-35 years old at a duration of 5-15 minutes long, with the most users appearing to be just over 30 years old for between 5-10 minutes of ride time. It is interesting to wonder about how this data might look if broken down by gender - a topic that deserves a further look in the next section."
   ]
  },
  {
   "cell_type": "code",
   "execution_count": 164,
   "metadata": {},
   "outputs": [
    {
     "data": {
      "image/png": "[encoded data removed]",
      "text/plain": [
       "<Figure size 432x288 with 1 Axes>"
      ]
     },
     "metadata": {
      "needs_background": "light"
     },
     "output_type": "display_data"
    }
   ],
   "source": [
    "base_color = sb.color_palette()[0]\n",
    "sb.boxplot(data = short_ride_new, x = 'member_gender', y = 'age', color = base_color);\n",
    "plt.xticks(rotation=15)\n",
    "plt.xlabel('Member Gender')\n",
    "plt.ylabel('Age')\n",
    "plt.title('Member Gender vs. Age');"
   ]
  },
  {
   "cell_type": "markdown",
   "metadata": {},
   "source": [
    "Average ages seem to be relatively constant across genders, with males showing a slightly higher average age than females, and males showing about an equivalent average age to those who identified as an \"other\" gender."
   ]
  },
  {
   "cell_type": "code",
   "execution_count": 162,
   "metadata": {},
   "outputs": [
    {
     "data": {
      "image/png": "[encoded data removed]",
      "text/plain": [
       "<Figure size 432x288 with 1 Axes>"
      ]
     },
     "metadata": {
      "needs_background": "light"
     },
     "output_type": "display_data"
    }
   ],
   "source": [
    "base_color = sb.color_palette()[0]\n",
    "sb.violinplot(data = short_ride_new, x = 'member_gender', y = 'duration_min', color = base_color);\n",
    "plt.xticks(rotation=15)\n",
    "plt.xlabel('Gender (years)')\n",
    "plt.ylabel('Duration (minutes)')\n",
    "plt.title('Gender vs. Duration');"
   ]
  },
  {
   "cell_type": "markdown",
   "metadata": {},
   "source": [
    "Interestingly, it appears that the gender of our users does not have much of an impact on how long a user is riding for. Regardless of if a male, female or other is riding, the average ride time and distribution of those ride times appears to be the same for each gender - just under 10 minutes of riding."
   ]
  },
  {
   "cell_type": "code",
   "execution_count": 165,
   "metadata": {},
   "outputs": [
    {
     "data": {
      "image/png": "[encoded data removed]",
      "text/plain": [
       "<Figure size 432x288 with 1 Axes>"
      ]
     },
     "metadata": {
      "needs_background": "light"
     },
     "output_type": "display_data"
    }
   ],
   "source": [
    "base_color = sb.color_palette()[0]\n",
    "sb.violinplot(data = short_ride_new, x = 'user_type', y = 'duration_min', color = base_color);\n",
    "plt.xticks(rotation=15)\n",
    "plt.xlabel('User Type')\n",
    "plt.ylabel('Duration (minutes)')\n",
    "plt.title('User Type vs. Duration');"
   ]
  },
  {
   "cell_type": "markdown",
   "metadata": {},
   "source": [
    "The violin plots above show that there may be a relationship between user type and duration, with single time customer rides averaging around 15 minutes while subscriber times are closer to 10 minutes. This makes me wonder if this is true for all genders, or does one in particular skew the data?"
   ]
  },
  {
   "cell_type": "markdown",
   "metadata": {},
   "source": [
    "### Talk about some of the relationships you observed in this part of the investigation. How did the feature(s) of interest vary with other features in the dataset?\n",
    "\n",
    "> Age seemed to have a significant impact on the duration of bike rides, while gender did not. \n",
    "\n",
    "### Did you observe any interesting relationships between the other features (not the main feature(s) of interest)?\n",
    "\n",
    "> At this time, I am focusing on the features of interest, so I did not observe any other interesting relationships between the other features of the dataset."
   ]
  },
  {
   "cell_type": "markdown",
   "metadata": {},
   "source": [
    "## Multivariate Exploration\n",
    "\n",
    "> Create plots of three or more variables to investigate your data even\n",
    "further. Make sure that your investigations are justified, and follow from\n",
    "your work in the previous sections."
   ]
  },
  {
   "cell_type": "code",
   "execution_count": 156,
   "metadata": {},
   "outputs": [
    {
     "data": {
      "image/png": "[encoded data removed]",
      "text/plain": [
       "<Figure size 432x288 with 1 Axes>"
      ]
     },
     "metadata": {
      "needs_background": "light"
     },
     "output_type": "display_data"
    }
   ],
   "source": [
    "ax = sb.barplot(data = short_ride_new, x = 'member_gender', y = 'duration_min', hue = 'user_type')\n",
    "ax.legend(loc = 8, ncol = 3, framealpha = 1, title = 'Age')\n",
    "plt.xlabel('Member Gender')\n",
    "plt.ylabel('Duration (minutes)')\n",
    "plt.title('Gender vs. Duration Broken Down by User Type');"
   ]
  },
  {
   "cell_type": "markdown",
   "metadata": {},
   "source": [
    "We notice here that regardless of gender - male, female or other - average trip duration is significantly higher for customers than it is for subscibers."
   ]
  },
  {
   "cell_type": "code",
   "execution_count": 161,
   "metadata": {},
   "outputs": [
    {
     "data": {
      "image/png": "[encoded data removed]",
      "text/plain": [
       "<Figure size 1088x360 with 4 Axes>"
      ]
     },
     "metadata": {
      "needs_background": "light"
     },
     "output_type": "display_data"
    }
   ],
   "source": [
    "g = sb.FacetGrid(data = short_ride_new, col = 'member_gender', height = 5)\n",
    "g.map(plt.hist2d, 'age', 'duration_min')\n",
    "g.add_legend()\n",
    "g.set(xlabel = \"Age\", ylabel = \"Duration (Min)\")\n",
    "plt.colorbar()\n",
    "plt.title('Age vs. Duration - Overall');"
   ]
  },
  {
   "cell_type": "markdown",
   "metadata": {},
   "source": [
    "In this set of heat maps, we notice the following relationships: there seem to be more older men who are using the bicycles for longer. The heat map furthest to the left suggests there are significant numbers of men above the age of thirty who are renting the bicycles; however, for females, there is one cross-section that stands out the most - age 30, duration of 10 minutes is by far the most users for females. While this is also the most common ride age and duration for males, it does not stick out nearly as it does for female riders."
   ]
  },
  {
   "cell_type": "markdown",
   "metadata": {},
   "source": [
    "### Talk about some of the relationships you observed in this part of the investigation. Were there features that strengthened each other in terms of looking at your feature(s) of interest?\n",
    "\n",
    "> These multivariate explorations shed light on a couple different ideas. One, regardless of gender, we can say with certaintly that all genders showed a higher average ride duration for customers than for subscription users. Secondly, we notice that when it comes to gender, there is a bit more distribtuion for age and ride time for males than there are for females, who are much more centered on the age of 30 and ride duration of 10 minutes.\n",
    "\n",
    "### Were there any interesting or surprising interactions between features?\n",
    "\n",
    "> The interaction that was most surprising for me was the gender breakdown in ride duration, as well as the age of all participants. It was a bit surprising to me that the \"average\" age for a user was 30, as I was expecting that number to be a bit lower to match a younger and stereotypically more active and less financially stable age group. To me, it seemed that the ride share option would be appealing to a younger age - maybe closer to 25 - for those reasons. I was also surprised that the female data was more centered around the age of 30 than men, and that the most men who were using the bikes were age 30, especially considering our earlier plot that showed that men's average age was higher than women's in this dataset."
   ]
  },
  {
   "cell_type": "code",
   "execution_count": null,
   "metadata": {},
   "outputs": [],
   "source": []
  }
 ],
 "metadata": {
  "kernelspec": {
   "display_name": "Python 3",
   "language": "python",
   "name": "python3"
  },
  "language_info": {
   "codemirror_mode": {
    "name": "ipython",
    "version": 3
   },
   "file_extension": ".py",
   "mimetype": "text/x-python",
   "name": "python",
   "nbconvert_exporter": "python",
   "pygments_lexer": "ipython3",
   "version": "3.7.3"
  }
 },
 "nbformat": 4,
 "nbformat_minor": 2
}

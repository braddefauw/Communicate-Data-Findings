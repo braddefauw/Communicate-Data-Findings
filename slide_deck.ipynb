{
 "cells": [
  {
   "cell_type": "markdown",
   "metadata": {
    "slideshow": {
     "slide_type": "slide"
    }
   },
   "source": [
    "# Bay Wheels Dataset Exploraiton\n",
    "## by Brad DeFauw"
   ]
  },
  {
   "cell_type": "markdown",
   "metadata": {
    "slideshow": {
     "slide_type": "slide"
    }
   },
   "source": [
    "## Investigation Overview\n",
    "\n",
    "The goal of this presentation is to use information provided by Lyft's Bay Wheels program to gather insights about how age and gender impact ride duraiton.\n",
    "\n",
    "## Dataset Overview\n",
    "\n",
    "The dataset that I explored captures trip data for the company Bay Wheels, formerly known as Ford GoBike, a regional public bicycle sharing system in the San Francisco Bay Area, California operated by Motivate, in a partnership with the Metropolitan Transportation Commission and the Bay Area Air Quality Management District. This dataset does an excellent job shedding light on a variety of data, in particular: \n",
    "- Trip Duration (seconds)\n",
    "- User Type (Subscriber or Customer – “Subscriber” = Member or “Customer” = Casual)\n",
    "- Member Year of Birth\n",
    "- Member Gender"
   ]
  },
  {
   "cell_type": "code",
   "execution_count": 1,
   "metadata": {
    "slideshow": {
     "slide_type": "skip"
    }
   },
   "outputs": [],
   "source": [
    "# import all packages and set plots to be embedded inline\n",
    "import numpy as np\n",
    "import pandas as pd\n",
    "import matplotlib.pyplot as plt\n",
    "import seaborn as sb\n",
    "\n",
    "%matplotlib inline\n",
    "\n",
    "# suppress warnings from final output\n",
    "import warnings\n",
    "warnings.simplefilter(\"ignore\")"
   ]
  },
  {
   "cell_type": "code",
   "execution_count": 2,
   "metadata": {
    "slideshow": {
     "slide_type": "skip"
    }
   },
   "outputs": [
    {
     "name": "stdout",
     "output_type": "stream",
     "text": [
      "(519700, 15)\n",
      "duration_sec                 int64\n",
      "start_time                  object\n",
      "end_time                    object\n",
      "start_station_id             int64\n",
      "start_station_name          object\n",
      "start_station_latitude     float64\n",
      "start_station_longitude    float64\n",
      "end_station_id               int64\n",
      "end_station_name            object\n",
      "end_station_latitude       float64\n",
      "end_station_longitude      float64\n",
      "bike_id                      int64\n",
      "user_type                   object\n",
      "member_birth_year          float64\n",
      "member_gender               object\n",
      "dtype: object\n"
     ]
    },
    {
     "data": {
      "text/html": [
       "<div>\n",
       "<style scoped>\n",
       "    .dataframe tbody tr th:only-of-type {\n",
       "        vertical-align: middle;\n",
       "    }\n",
       "\n",
       "    .dataframe tbody tr th {\n",
       "        vertical-align: top;\n",
       "    }\n",
       "\n",
       "    .dataframe thead th {\n",
       "        text-align: right;\n",
       "    }\n",
       "</style>\n",
       "<table border=\"1\" class=\"dataframe\">\n",
       "  <thead>\n",
       "    <tr style=\"text-align: right;\">\n",
       "      <th></th>\n",
       "      <th>duration_sec</th>\n",
       "      <th>start_time</th>\n",
       "      <th>end_time</th>\n",
       "      <th>start_station_id</th>\n",
       "      <th>start_station_name</th>\n",
       "      <th>start_station_latitude</th>\n",
       "      <th>start_station_longitude</th>\n",
       "      <th>end_station_id</th>\n",
       "      <th>end_station_name</th>\n",
       "      <th>end_station_latitude</th>\n",
       "      <th>end_station_longitude</th>\n",
       "      <th>bike_id</th>\n",
       "      <th>user_type</th>\n",
       "      <th>member_birth_year</th>\n",
       "      <th>member_gender</th>\n",
       "      <th>duration_min</th>\n",
       "      <th>duration_hr</th>\n",
       "      <th>age</th>\n",
       "    </tr>\n",
       "  </thead>\n",
       "  <tbody>\n",
       "    <tr>\n",
       "      <th>0</th>\n",
       "      <td>80110</td>\n",
       "      <td>2017-12-31 16:57:39.6540</td>\n",
       "      <td>2018-01-01 15:12:50.2450</td>\n",
       "      <td>74</td>\n",
       "      <td>Laguna St at Hayes St</td>\n",
       "      <td>37.776435</td>\n",
       "      <td>-122.426244</td>\n",
       "      <td>43</td>\n",
       "      <td>San Francisco Public Library (Grove St at Hyde...</td>\n",
       "      <td>37.778768</td>\n",
       "      <td>-122.415929</td>\n",
       "      <td>96</td>\n",
       "      <td>Customer</td>\n",
       "      <td>1987.0</td>\n",
       "      <td>Male</td>\n",
       "      <td>1335.166667</td>\n",
       "      <td>22.252778</td>\n",
       "      <td>30.0</td>\n",
       "    </tr>\n",
       "    <tr>\n",
       "      <th>1</th>\n",
       "      <td>78800</td>\n",
       "      <td>2017-12-31 15:56:34.8420</td>\n",
       "      <td>2018-01-01 13:49:55.6170</td>\n",
       "      <td>284</td>\n",
       "      <td>Yerba Buena Center for the Arts (Howard St at ...</td>\n",
       "      <td>37.784872</td>\n",
       "      <td>-122.400876</td>\n",
       "      <td>96</td>\n",
       "      <td>Dolores St at 15th St</td>\n",
       "      <td>37.766210</td>\n",
       "      <td>-122.426614</td>\n",
       "      <td>88</td>\n",
       "      <td>Customer</td>\n",
       "      <td>1965.0</td>\n",
       "      <td>Female</td>\n",
       "      <td>1313.333333</td>\n",
       "      <td>21.888889</td>\n",
       "      <td>52.0</td>\n",
       "    </tr>\n",
       "    <tr>\n",
       "      <th>2</th>\n",
       "      <td>45768</td>\n",
       "      <td>2017-12-31 22:45:48.4110</td>\n",
       "      <td>2018-01-01 11:28:36.8830</td>\n",
       "      <td>245</td>\n",
       "      <td>Downtown Berkeley BART</td>\n",
       "      <td>37.870348</td>\n",
       "      <td>-122.267764</td>\n",
       "      <td>245</td>\n",
       "      <td>Downtown Berkeley BART</td>\n",
       "      <td>37.870348</td>\n",
       "      <td>-122.267764</td>\n",
       "      <td>1094</td>\n",
       "      <td>Customer</td>\n",
       "      <td>NaN</td>\n",
       "      <td>NaN</td>\n",
       "      <td>762.800000</td>\n",
       "      <td>12.713333</td>\n",
       "      <td>NaN</td>\n",
       "    </tr>\n",
       "    <tr>\n",
       "      <th>3</th>\n",
       "      <td>62172</td>\n",
       "      <td>2017-12-31 17:31:10.6360</td>\n",
       "      <td>2018-01-01 10:47:23.5310</td>\n",
       "      <td>60</td>\n",
       "      <td>8th St at Ringold St</td>\n",
       "      <td>37.774520</td>\n",
       "      <td>-122.409449</td>\n",
       "      <td>5</td>\n",
       "      <td>Powell St BART Station (Market St at 5th St)</td>\n",
       "      <td>37.783899</td>\n",
       "      <td>-122.408445</td>\n",
       "      <td>2831</td>\n",
       "      <td>Customer</td>\n",
       "      <td>NaN</td>\n",
       "      <td>NaN</td>\n",
       "      <td>1036.200000</td>\n",
       "      <td>17.270000</td>\n",
       "      <td>NaN</td>\n",
       "    </tr>\n",
       "    <tr>\n",
       "      <th>4</th>\n",
       "      <td>43603</td>\n",
       "      <td>2017-12-31 14:23:14.0010</td>\n",
       "      <td>2018-01-01 02:29:57.5710</td>\n",
       "      <td>239</td>\n",
       "      <td>Bancroft Way at Telegraph Ave</td>\n",
       "      <td>37.868813</td>\n",
       "      <td>-122.258764</td>\n",
       "      <td>247</td>\n",
       "      <td>Fulton St at Bancroft Way</td>\n",
       "      <td>37.867789</td>\n",
       "      <td>-122.265896</td>\n",
       "      <td>3167</td>\n",
       "      <td>Subscriber</td>\n",
       "      <td>1997.0</td>\n",
       "      <td>Female</td>\n",
       "      <td>726.716667</td>\n",
       "      <td>12.111944</td>\n",
       "      <td>20.0</td>\n",
       "    </tr>\n",
       "  </tbody>\n",
       "</table>\n",
       "</div>"
      ],
      "text/plain": [
       "   duration_sec                start_time                  end_time  \\\n",
       "0         80110  2017-12-31 16:57:39.6540  2018-01-01 15:12:50.2450   \n",
       "1         78800  2017-12-31 15:56:34.8420  2018-01-01 13:49:55.6170   \n",
       "2         45768  2017-12-31 22:45:48.4110  2018-01-01 11:28:36.8830   \n",
       "3         62172  2017-12-31 17:31:10.6360  2018-01-01 10:47:23.5310   \n",
       "4         43603  2017-12-31 14:23:14.0010  2018-01-01 02:29:57.5710   \n",
       "\n",
       "   start_station_id                                 start_station_name  \\\n",
       "0                74                              Laguna St at Hayes St   \n",
       "1               284  Yerba Buena Center for the Arts (Howard St at ...   \n",
       "2               245                             Downtown Berkeley BART   \n",
       "3                60                               8th St at Ringold St   \n",
       "4               239                      Bancroft Way at Telegraph Ave   \n",
       "\n",
       "   start_station_latitude  start_station_longitude  end_station_id  \\\n",
       "0               37.776435              -122.426244              43   \n",
       "1               37.784872              -122.400876              96   \n",
       "2               37.870348              -122.267764             245   \n",
       "3               37.774520              -122.409449               5   \n",
       "4               37.868813              -122.258764             247   \n",
       "\n",
       "                                    end_station_name  end_station_latitude  \\\n",
       "0  San Francisco Public Library (Grove St at Hyde...             37.778768   \n",
       "1                              Dolores St at 15th St             37.766210   \n",
       "2                             Downtown Berkeley BART             37.870348   \n",
       "3       Powell St BART Station (Market St at 5th St)             37.783899   \n",
       "4                          Fulton St at Bancroft Way             37.867789   \n",
       "\n",
       "   end_station_longitude  bike_id   user_type  member_birth_year  \\\n",
       "0            -122.415929       96    Customer             1987.0   \n",
       "1            -122.426614       88    Customer             1965.0   \n",
       "2            -122.267764     1094    Customer                NaN   \n",
       "3            -122.408445     2831    Customer                NaN   \n",
       "4            -122.265896     3167  Subscriber             1997.0   \n",
       "\n",
       "  member_gender  duration_min  duration_hr   age  \n",
       "0          Male   1335.166667    22.252778  30.0  \n",
       "1        Female   1313.333333    21.888889  52.0  \n",
       "2           NaN    762.800000    12.713333   NaN  \n",
       "3           NaN   1036.200000    17.270000   NaN  \n",
       "4        Female    726.716667    12.111944  20.0  "
      ]
     },
     "execution_count": 2,
     "metadata": {},
     "output_type": "execute_result"
    }
   ],
   "source": [
    "# load in the dataset into a pandas dataframe\n",
    "bikes = pd.read_csv('2017-fordgobike-tripdata.csv')\n",
    "print(bikes.shape)\n",
    "print(bikes.dtypes)\n",
    "bikes['duration_min'] = bikes['duration_sec'] / 60\n",
    "bikes['duration_hr'] = bikes['duration_min'] / 60\n",
    "bikes['age'] = 2017 - bikes['member_birth_year']\n",
    "bikes.head()"
   ]
  },
  {
   "cell_type": "code",
   "execution_count": 3,
   "metadata": {
    "slideshow": {
     "slide_type": "skip"
    }
   },
   "outputs": [
    {
     "name": "stdout",
     "output_type": "stream",
     "text": [
      "        duration_sec  start_station_id  start_station_latitude  \\\n",
      "count  503704.000000     503704.000000           503704.000000   \n",
      "mean      712.752795         95.005743               37.771706   \n",
      "std       501.635151         85.681287                0.085832   \n",
      "min        61.000000          3.000000               37.317298   \n",
      "25%       376.000000         24.000000               37.773492   \n",
      "50%       581.000000         67.000000               37.782411   \n",
      "75%       892.000000        138.000000               37.795392   \n",
      "max      3659.000000        340.000000               37.880222   \n",
      "\n",
      "       start_station_longitude  end_station_id  end_station_latitude  \\\n",
      "count            503704.000000   503704.000000         503704.000000   \n",
      "mean               -122.364159       92.057081             37.771869   \n",
      "std                   0.105100       84.445283              0.085741   \n",
      "min                -122.444293        3.000000             37.317298   \n",
      "25%                -122.411726       23.000000             37.774520   \n",
      "50%                -122.398870       66.000000             37.783813   \n",
      "75%                -122.391034      134.000000             37.795392   \n",
      "max                -121.874119      340.000000             37.880222   \n",
      "\n",
      "       end_station_longitude        bike_id  member_birth_year   duration_min  \\\n",
      "count          503704.000000  503704.000000      447716.000000  503704.000000   \n",
      "mean             -122.363420    1675.683503        1980.394400      11.879213   \n",
      "std                 0.104629     971.724434          10.506917       8.360586   \n",
      "min              -122.444293      10.000000        1886.000000       1.016667   \n",
      "25%              -122.410345     790.000000        1974.000000       6.266667   \n",
      "50%              -122.398525    1733.000000        1983.000000       9.683333   \n",
      "75%              -122.391034    2524.000000        1988.000000      14.866667   \n",
      "max              -121.874119    3733.000000        1999.000000      60.983333   \n",
      "\n",
      "         duration_hr            age  \n",
      "count  503704.000000  447716.000000  \n",
      "mean        0.197987      36.605600  \n",
      "std         0.139343      10.506917  \n",
      "min         0.016944      18.000000  \n",
      "25%         0.104444      29.000000  \n",
      "50%         0.161389      34.000000  \n",
      "75%         0.247778      43.000000  \n",
      "max         1.016389     131.000000  \n",
      "(503704, 18)\n"
     ]
    }
   ],
   "source": [
    "short_ride = bikes[bikes['duration_min'] < 61]\n",
    "short_ride.head()\n",
    "print(short_ride.describe())\n",
    "print(short_ride.shape)"
   ]
  },
  {
   "cell_type": "code",
   "execution_count": 4,
   "metadata": {
    "slideshow": {
     "slide_type": "skip"
    }
   },
   "outputs": [
    {
     "data": {
      "text/html": [
       "<div>\n",
       "<style scoped>\n",
       "    .dataframe tbody tr th:only-of-type {\n",
       "        vertical-align: middle;\n",
       "    }\n",
       "\n",
       "    .dataframe tbody tr th {\n",
       "        vertical-align: top;\n",
       "    }\n",
       "\n",
       "    .dataframe thead th {\n",
       "        text-align: right;\n",
       "    }\n",
       "</style>\n",
       "<table border=\"1\" class=\"dataframe\">\n",
       "  <thead>\n",
       "    <tr style=\"text-align: right;\">\n",
       "      <th></th>\n",
       "      <th>duration_sec</th>\n",
       "      <th>start_time</th>\n",
       "      <th>end_time</th>\n",
       "      <th>start_station_id</th>\n",
       "      <th>start_station_name</th>\n",
       "      <th>start_station_latitude</th>\n",
       "      <th>start_station_longitude</th>\n",
       "      <th>end_station_id</th>\n",
       "      <th>end_station_name</th>\n",
       "      <th>end_station_latitude</th>\n",
       "      <th>end_station_longitude</th>\n",
       "      <th>bike_id</th>\n",
       "      <th>user_type</th>\n",
       "      <th>member_birth_year</th>\n",
       "      <th>member_gender</th>\n",
       "      <th>duration_min</th>\n",
       "      <th>duration_hr</th>\n",
       "      <th>age</th>\n",
       "    </tr>\n",
       "  </thead>\n",
       "  <tbody>\n",
       "    <tr>\n",
       "      <th>40974</th>\n",
       "      <td>985</td>\n",
       "      <td>2017-12-13 19:04:29.9710</td>\n",
       "      <td>2017-12-13 19:20:55.4820</td>\n",
       "      <td>269</td>\n",
       "      <td>Telegraph Ave at Carleton St</td>\n",
       "      <td>37.862320</td>\n",
       "      <td>-122.258801</td>\n",
       "      <td>157</td>\n",
       "      <td>65th St at Hollis St</td>\n",
       "      <td>37.846784</td>\n",
       "      <td>-122.291376</td>\n",
       "      <td>3517</td>\n",
       "      <td>Subscriber</td>\n",
       "      <td>1985.0</td>\n",
       "      <td>Female</td>\n",
       "      <td>16.416667</td>\n",
       "      <td>0.273611</td>\n",
       "      <td>32.0</td>\n",
       "    </tr>\n",
       "    <tr>\n",
       "      <th>410486</th>\n",
       "      <td>514</td>\n",
       "      <td>2017-08-25 07:58:23.5870</td>\n",
       "      <td>2017-08-25 08:06:58.3370</td>\n",
       "      <td>15</td>\n",
       "      <td>San Francisco Ferry Building (Harry Bridges Pl...</td>\n",
       "      <td>37.795392</td>\n",
       "      <td>-122.394203</td>\n",
       "      <td>48</td>\n",
       "      <td>2nd St at S Park St</td>\n",
       "      <td>37.782411</td>\n",
       "      <td>-122.392706</td>\n",
       "      <td>2189</td>\n",
       "      <td>Subscriber</td>\n",
       "      <td>1979.0</td>\n",
       "      <td>Male</td>\n",
       "      <td>8.566667</td>\n",
       "      <td>0.142778</td>\n",
       "      <td>38.0</td>\n",
       "    </tr>\n",
       "    <tr>\n",
       "      <th>152935</th>\n",
       "      <td>181</td>\n",
       "      <td>2017-11-09 00:20:28.5520</td>\n",
       "      <td>2017-11-09 00:23:29.8440</td>\n",
       "      <td>44</td>\n",
       "      <td>Civic Center/UN Plaza BART Station (Market St ...</td>\n",
       "      <td>37.781074</td>\n",
       "      <td>-122.411738</td>\n",
       "      <td>5</td>\n",
       "      <td>Powell St BART Station (Market St at 5th St)</td>\n",
       "      <td>37.783899</td>\n",
       "      <td>-122.408445</td>\n",
       "      <td>1058</td>\n",
       "      <td>Subscriber</td>\n",
       "      <td>1989.0</td>\n",
       "      <td>Male</td>\n",
       "      <td>3.016667</td>\n",
       "      <td>0.050278</td>\n",
       "      <td>28.0</td>\n",
       "    </tr>\n",
       "    <tr>\n",
       "      <th>354997</th>\n",
       "      <td>613</td>\n",
       "      <td>2017-09-12 16:55:20.0890</td>\n",
       "      <td>2017-09-12 17:05:33.5970</td>\n",
       "      <td>23</td>\n",
       "      <td>The Embarcadero at Steuart St</td>\n",
       "      <td>37.791464</td>\n",
       "      <td>-122.391034</td>\n",
       "      <td>30</td>\n",
       "      <td>San Francisco Caltrain (Townsend St at 4th St)</td>\n",
       "      <td>37.776598</td>\n",
       "      <td>-122.395282</td>\n",
       "      <td>1112</td>\n",
       "      <td>Subscriber</td>\n",
       "      <td>1974.0</td>\n",
       "      <td>Male</td>\n",
       "      <td>10.216667</td>\n",
       "      <td>0.170278</td>\n",
       "      <td>43.0</td>\n",
       "    </tr>\n",
       "    <tr>\n",
       "      <th>307914</th>\n",
       "      <td>1197</td>\n",
       "      <td>2017-09-26 11:01:37.0970</td>\n",
       "      <td>2017-09-26 11:21:34.8880</td>\n",
       "      <td>37</td>\n",
       "      <td>2nd St at Folsom St</td>\n",
       "      <td>37.785000</td>\n",
       "      <td>-122.395936</td>\n",
       "      <td>284</td>\n",
       "      <td>Yerba Buena Center for the Arts (Howard St at ...</td>\n",
       "      <td>37.784872</td>\n",
       "      <td>-122.400876</td>\n",
       "      <td>2285</td>\n",
       "      <td>Customer</td>\n",
       "      <td>1978.0</td>\n",
       "      <td>Male</td>\n",
       "      <td>19.950000</td>\n",
       "      <td>0.332500</td>\n",
       "      <td>39.0</td>\n",
       "    </tr>\n",
       "  </tbody>\n",
       "</table>\n",
       "</div>"
      ],
      "text/plain": [
       "        duration_sec                start_time                  end_time  \\\n",
       "40974            985  2017-12-13 19:04:29.9710  2017-12-13 19:20:55.4820   \n",
       "410486           514  2017-08-25 07:58:23.5870  2017-08-25 08:06:58.3370   \n",
       "152935           181  2017-11-09 00:20:28.5520  2017-11-09 00:23:29.8440   \n",
       "354997           613  2017-09-12 16:55:20.0890  2017-09-12 17:05:33.5970   \n",
       "307914          1197  2017-09-26 11:01:37.0970  2017-09-26 11:21:34.8880   \n",
       "\n",
       "        start_station_id                                 start_station_name  \\\n",
       "40974                269                       Telegraph Ave at Carleton St   \n",
       "410486                15  San Francisco Ferry Building (Harry Bridges Pl...   \n",
       "152935                44  Civic Center/UN Plaza BART Station (Market St ...   \n",
       "354997                23                      The Embarcadero at Steuart St   \n",
       "307914                37                                2nd St at Folsom St   \n",
       "\n",
       "        start_station_latitude  start_station_longitude  end_station_id  \\\n",
       "40974                37.862320              -122.258801             157   \n",
       "410486               37.795392              -122.394203              48   \n",
       "152935               37.781074              -122.411738               5   \n",
       "354997               37.791464              -122.391034              30   \n",
       "307914               37.785000              -122.395936             284   \n",
       "\n",
       "                                         end_station_name  \\\n",
       "40974                                65th St at Hollis St   \n",
       "410486                                2nd St at S Park St   \n",
       "152935       Powell St BART Station (Market St at 5th St)   \n",
       "354997     San Francisco Caltrain (Townsend St at 4th St)   \n",
       "307914  Yerba Buena Center for the Arts (Howard St at ...   \n",
       "\n",
       "        end_station_latitude  end_station_longitude  bike_id   user_type  \\\n",
       "40974              37.846784            -122.291376     3517  Subscriber   \n",
       "410486             37.782411            -122.392706     2189  Subscriber   \n",
       "152935             37.783899            -122.408445     1058  Subscriber   \n",
       "354997             37.776598            -122.395282     1112  Subscriber   \n",
       "307914             37.784872            -122.400876     2285    Customer   \n",
       "\n",
       "        member_birth_year member_gender  duration_min  duration_hr   age  \n",
       "40974              1985.0        Female     16.416667     0.273611  32.0  \n",
       "410486             1979.0          Male      8.566667     0.142778  38.0  \n",
       "152935             1989.0          Male      3.016667     0.050278  28.0  \n",
       "354997             1974.0          Male     10.216667     0.170278  43.0  \n",
       "307914             1978.0          Male     19.950000     0.332500  39.0  "
      ]
     },
     "execution_count": 4,
     "metadata": {},
     "output_type": "execute_result"
    }
   ],
   "source": [
    "short_ride_new = short_ride[short_ride.age < 68].copy()\n",
    "short_ride_new.sample(5)"
   ]
  },
  {
   "cell_type": "markdown",
   "metadata": {
    "slideshow": {
     "slide_type": "slide"
    }
   },
   "source": [
    "## Visualization 1: Average Birth Year of All Users\n",
    "\n",
    "Here, we can see a unimodal histogram, with most users' birth years occuring between 1985 and 1990. This graph also shows significant left skew."
   ]
  },
  {
   "cell_type": "code",
   "execution_count": 5,
   "metadata": {
    "slideshow": {
     "slide_type": "subslide"
    }
   },
   "outputs": [
    {
     "data": {
      "image/png": "[encoded data removed]",
      "text/plain": [
       "<Figure size 432x288 with 1 Axes>"
      ]
     },
     "metadata": {
      "needs_background": "light"
     },
     "output_type": "display_data"
    }
   ],
   "source": [
    "bins = np.arange(0, short_ride_new['member_birth_year'].max()+5, 5)\n",
    "plt.hist(data = short_ride_new, x = 'member_birth_year', bins = bins);\n",
    "plt.xlim((1940,2000))\n",
    "plt.xlabel('Birth Year')\n",
    "plt.title('Birth Year Histogram');"
   ]
  },
  {
   "cell_type": "markdown",
   "metadata": {
    "collapsed": true,
    "slideshow": {
     "slide_type": "slide"
    }
   },
   "source": [
    "## Visualization 2: Age vs. Duration\n",
    "\n",
    "When conducting a bivariate exploration of the data, I initially thought to do a scatterplot of the data. However, due to overplotting it appears that a heat map would be more appropriate for this data. As evidenced, the largest number of rides are happening for users between 25-35 years old at a duration of 5-15 minutes long, with the most users appearing to be just over 30 years old for between 5-10 minutes of ride time. It is interesting to wonder about how this data might look if broken down by gender - a topic that deserves a further look in the next section."
   ]
  },
  {
   "cell_type": "code",
   "execution_count": 6,
   "metadata": {
    "slideshow": {
     "slide_type": "subslide"
    }
   },
   "outputs": [
    {
     "data": {
      "image/png": "[encoded data removed]",
      "text/plain": [
       "<Figure size 432x288 with 2 Axes>"
      ]
     },
     "metadata": {
      "needs_background": "light"
     },
     "output_type": "display_data"
    }
   ],
   "source": [
    "bins_x = np.arange(15, 131+5, 5)\n",
    "bins_y = np.arange(0, 60+2, 2)\n",
    "plt.hist2d(data = short_ride_new, x = 'age', y = 'duration_min', cmin = 0.5, cmap = 'viridis_r', bins = [bins_x, bins_y]);\n",
    "plt.colorbar()\n",
    "plt.xlabel('Age (years)')\n",
    "plt.ylabel('Duration (minutes)')\n",
    "plt.title('Age vs. Duration')\n",
    "plt.xlim(15,70);"
   ]
  },
  {
   "cell_type": "markdown",
   "metadata": {
    "slideshow": {
     "slide_type": "slide"
    }
   },
   "source": [
    "## Visualization 3: Age vs. Duration, Broken Down By Gender\n",
    "\n",
    "In this set of heat maps, we notice the following relationships: there seem to be more older men who are using the bicycles for longer. The heat map furthest to the left suggests there are significant numbers of men above the age of thirty who are renting the bicycles; however, for females, there is one cross-section that stands out the most - age 30, duration of 10 minutes is by far the most users for females. While this is also the most common ride age and duration for males, it does not stick out nearly as it does for female riders."
   ]
  },
  {
   "cell_type": "code",
   "execution_count": 7,
   "metadata": {
    "slideshow": {
     "slide_type": "subslide"
    }
   },
   "outputs": [
    {
     "data": {
      "image/png": "[encoded data removed]",
      "text/plain": [
       "<Figure size 1088x360 with 4 Axes>"
      ]
     },
     "metadata": {
      "needs_background": "light"
     },
     "output_type": "display_data"
    }
   ],
   "source": [
    "g = sb.FacetGrid(data = short_ride_new, col = 'member_gender', height = 5)\n",
    "g.map(plt.hist2d, 'age', 'duration_min')\n",
    "g.add_legend()\n",
    "g.set(xlabel = \"Age\", ylabel = \"Duration (Min)\")\n",
    "plt.colorbar()\n",
    "plt.title('Age vs. Duration - Overall');"
   ]
  },
  {
   "cell_type": "code",
   "execution_count": null,
   "metadata": {},
   "outputs": [],
   "source": [
    "!jupyter nbconvert slide_deck.ipynb --to slides --post serve --template output_toggle"
   ]
  },
  {
   "cell_type": "code",
   "execution_count": null,
   "metadata": {},
   "outputs": [],
   "source": []
  }
 ],
 "metadata": {
  "celltoolbar": "Slideshow",
  "kernelspec": {
   "display_name": "Python 3",
   "language": "python",
   "name": "python3"
  },
  "language_info": {
   "codemirror_mode": {
    "name": "ipython",
    "version": 3
   },
   "file_extension": ".py",
   "mimetype": "text/x-python",
   "name": "python",
   "nbconvert_exporter": "python",
   "pygments_lexer": "ipython3",
   "version": "3.7.3"
  }
 },
 "nbformat": 4,
 "nbformat_minor": 2
}
